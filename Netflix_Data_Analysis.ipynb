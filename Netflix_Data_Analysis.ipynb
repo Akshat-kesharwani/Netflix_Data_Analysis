{
 "cells": [
  {
   "cell_type": "code",
   "execution_count": 5,
   "id": "a364c350",
   "metadata": {},
   "outputs": [],
   "source": [
    "import pandas as pd\n",
    "import numpy as np\n",
    "import seaborn as sns\n",
    "import matplotlib.pyplot as plt  #import all the necessary libraries \n",
    "\n"
   ]
  },
  {
   "cell_type": "code",
   "execution_count": 6,
   "id": "230c33a7",
   "metadata": {},
   "outputs": [],
   "source": [
    "data = pd.read_csv(\"C:/Users/aksha/Desktop/Unified Mentor Internship Projects/Netflix Data/netflix1.csv\")  #Load the Netflix dataset"
   ]
  },
  {
   "cell_type": "code",
   "execution_count": null,
   "id": "98b963c5",
   "metadata": {},
   "outputs": [],
   "source": [
    "1 #Understand the dataset first"
   ]
  },
  {
   "cell_type": "code",
   "execution_count": 8,
   "id": "86d7052e",
   "metadata": {},
   "outputs": [
    {
     "data": {
      "text/html": [
       "<div>\n",
       "<style scoped>\n",
       "    .dataframe tbody tr th:only-of-type {\n",
       "        vertical-align: middle;\n",
       "    }\n",
       "\n",
       "    .dataframe tbody tr th {\n",
       "        vertical-align: top;\n",
       "    }\n",
       "\n",
       "    .dataframe thead th {\n",
       "        text-align: right;\n",
       "    }\n",
       "</style>\n",
       "<table border=\"1\" class=\"dataframe\">\n",
       "  <thead>\n",
       "    <tr style=\"text-align: right;\">\n",
       "      <th></th>\n",
       "      <th>show_id</th>\n",
       "      <th>type</th>\n",
       "      <th>title</th>\n",
       "      <th>director</th>\n",
       "      <th>country</th>\n",
       "      <th>date_added</th>\n",
       "      <th>release_year</th>\n",
       "      <th>rating</th>\n",
       "      <th>duration</th>\n",
       "      <th>listed_in</th>\n",
       "    </tr>\n",
       "  </thead>\n",
       "  <tbody>\n",
       "    <tr>\n",
       "      <th>0</th>\n",
       "      <td>s1</td>\n",
       "      <td>Movie</td>\n",
       "      <td>Dick Johnson Is Dead</td>\n",
       "      <td>Kirsten Johnson</td>\n",
       "      <td>United States</td>\n",
       "      <td>9/25/2021</td>\n",
       "      <td>2020</td>\n",
       "      <td>PG-13</td>\n",
       "      <td>90 min</td>\n",
       "      <td>Documentaries</td>\n",
       "    </tr>\n",
       "    <tr>\n",
       "      <th>1</th>\n",
       "      <td>s3</td>\n",
       "      <td>TV Show</td>\n",
       "      <td>Ganglands</td>\n",
       "      <td>Julien Leclercq</td>\n",
       "      <td>France</td>\n",
       "      <td>9/24/2021</td>\n",
       "      <td>2021</td>\n",
       "      <td>TV-MA</td>\n",
       "      <td>1 Season</td>\n",
       "      <td>Crime TV Shows, International TV Shows, TV Act...</td>\n",
       "    </tr>\n",
       "    <tr>\n",
       "      <th>2</th>\n",
       "      <td>s6</td>\n",
       "      <td>TV Show</td>\n",
       "      <td>Midnight Mass</td>\n",
       "      <td>Mike Flanagan</td>\n",
       "      <td>United States</td>\n",
       "      <td>9/24/2021</td>\n",
       "      <td>2021</td>\n",
       "      <td>TV-MA</td>\n",
       "      <td>1 Season</td>\n",
       "      <td>TV Dramas, TV Horror, TV Mysteries</td>\n",
       "    </tr>\n",
       "    <tr>\n",
       "      <th>3</th>\n",
       "      <td>s14</td>\n",
       "      <td>Movie</td>\n",
       "      <td>Confessions of an Invisible Girl</td>\n",
       "      <td>Bruno Garotti</td>\n",
       "      <td>Brazil</td>\n",
       "      <td>9/22/2021</td>\n",
       "      <td>2021</td>\n",
       "      <td>TV-PG</td>\n",
       "      <td>91 min</td>\n",
       "      <td>Children &amp; Family Movies, Comedies</td>\n",
       "    </tr>\n",
       "    <tr>\n",
       "      <th>4</th>\n",
       "      <td>s8</td>\n",
       "      <td>Movie</td>\n",
       "      <td>Sankofa</td>\n",
       "      <td>Haile Gerima</td>\n",
       "      <td>United States</td>\n",
       "      <td>9/24/2021</td>\n",
       "      <td>1993</td>\n",
       "      <td>TV-MA</td>\n",
       "      <td>125 min</td>\n",
       "      <td>Dramas, Independent Movies, International Movies</td>\n",
       "    </tr>\n",
       "    <tr>\n",
       "      <th>5</th>\n",
       "      <td>s9</td>\n",
       "      <td>TV Show</td>\n",
       "      <td>The Great British Baking Show</td>\n",
       "      <td>Andy Devonshire</td>\n",
       "      <td>United Kingdom</td>\n",
       "      <td>9/24/2021</td>\n",
       "      <td>2021</td>\n",
       "      <td>TV-14</td>\n",
       "      <td>9 Seasons</td>\n",
       "      <td>British TV Shows, Reality TV</td>\n",
       "    </tr>\n",
       "    <tr>\n",
       "      <th>6</th>\n",
       "      <td>s10</td>\n",
       "      <td>Movie</td>\n",
       "      <td>The Starling</td>\n",
       "      <td>Theodore Melfi</td>\n",
       "      <td>United States</td>\n",
       "      <td>9/24/2021</td>\n",
       "      <td>2021</td>\n",
       "      <td>PG-13</td>\n",
       "      <td>104 min</td>\n",
       "      <td>Comedies, Dramas</td>\n",
       "    </tr>\n",
       "    <tr>\n",
       "      <th>7</th>\n",
       "      <td>s939</td>\n",
       "      <td>Movie</td>\n",
       "      <td>Motu Patlu in the Game of Zones</td>\n",
       "      <td>Suhas Kadav</td>\n",
       "      <td>India</td>\n",
       "      <td>5/1/2021</td>\n",
       "      <td>2019</td>\n",
       "      <td>TV-Y7</td>\n",
       "      <td>87 min</td>\n",
       "      <td>Children &amp; Family Movies, Comedies, Music &amp; Mu...</td>\n",
       "    </tr>\n",
       "    <tr>\n",
       "      <th>8</th>\n",
       "      <td>s13</td>\n",
       "      <td>Movie</td>\n",
       "      <td>Je Suis Karl</td>\n",
       "      <td>Christian Schwochow</td>\n",
       "      <td>Germany</td>\n",
       "      <td>9/23/2021</td>\n",
       "      <td>2021</td>\n",
       "      <td>TV-MA</td>\n",
       "      <td>127 min</td>\n",
       "      <td>Dramas, International Movies</td>\n",
       "    </tr>\n",
       "    <tr>\n",
       "      <th>9</th>\n",
       "      <td>s940</td>\n",
       "      <td>Movie</td>\n",
       "      <td>Motu Patlu in Wonderland</td>\n",
       "      <td>Suhas Kadav</td>\n",
       "      <td>India</td>\n",
       "      <td>5/1/2021</td>\n",
       "      <td>2013</td>\n",
       "      <td>TV-Y7</td>\n",
       "      <td>76 min</td>\n",
       "      <td>Children &amp; Family Movies, Music &amp; Musicals</td>\n",
       "    </tr>\n",
       "  </tbody>\n",
       "</table>\n",
       "</div>"
      ],
      "text/plain": [
       "  show_id     type                             title             director  \\\n",
       "0      s1    Movie              Dick Johnson Is Dead      Kirsten Johnson   \n",
       "1      s3  TV Show                         Ganglands      Julien Leclercq   \n",
       "2      s6  TV Show                     Midnight Mass        Mike Flanagan   \n",
       "3     s14    Movie  Confessions of an Invisible Girl        Bruno Garotti   \n",
       "4      s8    Movie                           Sankofa         Haile Gerima   \n",
       "5      s9  TV Show     The Great British Baking Show      Andy Devonshire   \n",
       "6     s10    Movie                      The Starling       Theodore Melfi   \n",
       "7    s939    Movie   Motu Patlu in the Game of Zones          Suhas Kadav   \n",
       "8     s13    Movie                      Je Suis Karl  Christian Schwochow   \n",
       "9    s940    Movie          Motu Patlu in Wonderland          Suhas Kadav   \n",
       "\n",
       "          country date_added  release_year rating   duration  \\\n",
       "0   United States  9/25/2021          2020  PG-13     90 min   \n",
       "1          France  9/24/2021          2021  TV-MA   1 Season   \n",
       "2   United States  9/24/2021          2021  TV-MA   1 Season   \n",
       "3          Brazil  9/22/2021          2021  TV-PG     91 min   \n",
       "4   United States  9/24/2021          1993  TV-MA    125 min   \n",
       "5  United Kingdom  9/24/2021          2021  TV-14  9 Seasons   \n",
       "6   United States  9/24/2021          2021  PG-13    104 min   \n",
       "7           India   5/1/2021          2019  TV-Y7     87 min   \n",
       "8         Germany  9/23/2021          2021  TV-MA    127 min   \n",
       "9           India   5/1/2021          2013  TV-Y7     76 min   \n",
       "\n",
       "                                           listed_in  \n",
       "0                                      Documentaries  \n",
       "1  Crime TV Shows, International TV Shows, TV Act...  \n",
       "2                 TV Dramas, TV Horror, TV Mysteries  \n",
       "3                 Children & Family Movies, Comedies  \n",
       "4   Dramas, Independent Movies, International Movies  \n",
       "5                       British TV Shows, Reality TV  \n",
       "6                                   Comedies, Dramas  \n",
       "7  Children & Family Movies, Comedies, Music & Mu...  \n",
       "8                       Dramas, International Movies  \n",
       "9         Children & Family Movies, Music & Musicals  "
      ]
     },
     "execution_count": 8,
     "metadata": {},
     "output_type": "execute_result"
    }
   ],
   "source": [
    "data.head(10)  #Top 10 rows "
   ]
  },
  {
   "cell_type": "code",
   "execution_count": 9,
   "id": "5a39d77e",
   "metadata": {},
   "outputs": [
    {
     "data": {
      "text/html": [
       "<div>\n",
       "<style scoped>\n",
       "    .dataframe tbody tr th:only-of-type {\n",
       "        vertical-align: middle;\n",
       "    }\n",
       "\n",
       "    .dataframe tbody tr th {\n",
       "        vertical-align: top;\n",
       "    }\n",
       "\n",
       "    .dataframe thead th {\n",
       "        text-align: right;\n",
       "    }\n",
       "</style>\n",
       "<table border=\"1\" class=\"dataframe\">\n",
       "  <thead>\n",
       "    <tr style=\"text-align: right;\">\n",
       "      <th></th>\n",
       "      <th>show_id</th>\n",
       "      <th>type</th>\n",
       "      <th>title</th>\n",
       "      <th>director</th>\n",
       "      <th>country</th>\n",
       "      <th>date_added</th>\n",
       "      <th>release_year</th>\n",
       "      <th>rating</th>\n",
       "      <th>duration</th>\n",
       "      <th>listed_in</th>\n",
       "    </tr>\n",
       "  </thead>\n",
       "  <tbody>\n",
       "    <tr>\n",
       "      <th>8780</th>\n",
       "      <td>s8759</td>\n",
       "      <td>TV Show</td>\n",
       "      <td>World's Busiest Cities</td>\n",
       "      <td>Not Given</td>\n",
       "      <td>United Kingdom</td>\n",
       "      <td>2/1/2019</td>\n",
       "      <td>2017</td>\n",
       "      <td>TV-PG</td>\n",
       "      <td>1 Season</td>\n",
       "      <td>British TV Shows, Docuseries</td>\n",
       "    </tr>\n",
       "    <tr>\n",
       "      <th>8781</th>\n",
       "      <td>s8776</td>\n",
       "      <td>TV Show</td>\n",
       "      <td>Yeh Meri Family</td>\n",
       "      <td>Not Given</td>\n",
       "      <td>India</td>\n",
       "      <td>8/31/2018</td>\n",
       "      <td>2018</td>\n",
       "      <td>TV-PG</td>\n",
       "      <td>1 Season</td>\n",
       "      <td>International TV Shows, TV Comedies</td>\n",
       "    </tr>\n",
       "    <tr>\n",
       "      <th>8782</th>\n",
       "      <td>s8781</td>\n",
       "      <td>TV Show</td>\n",
       "      <td>Yo-Kai Watch</td>\n",
       "      <td>Not Given</td>\n",
       "      <td>United States</td>\n",
       "      <td>4/1/2016</td>\n",
       "      <td>2015</td>\n",
       "      <td>TV-Y7</td>\n",
       "      <td>1 Season</td>\n",
       "      <td>Anime Series, Kids' TV</td>\n",
       "    </tr>\n",
       "    <tr>\n",
       "      <th>8783</th>\n",
       "      <td>s8785</td>\n",
       "      <td>Movie</td>\n",
       "      <td>Yoko and His Friends</td>\n",
       "      <td>Not Given</td>\n",
       "      <td>Russia</td>\n",
       "      <td>6/23/2018</td>\n",
       "      <td>2015</td>\n",
       "      <td>TV-Y</td>\n",
       "      <td>78 min</td>\n",
       "      <td>Children &amp; Family Movies</td>\n",
       "    </tr>\n",
       "    <tr>\n",
       "      <th>8784</th>\n",
       "      <td>s8796</td>\n",
       "      <td>TV Show</td>\n",
       "      <td>Yu-Gi-Oh! Arc-V</td>\n",
       "      <td>Not Given</td>\n",
       "      <td>Japan</td>\n",
       "      <td>5/1/2018</td>\n",
       "      <td>2015</td>\n",
       "      <td>TV-Y7</td>\n",
       "      <td>2 Seasons</td>\n",
       "      <td>Anime Series, Kids' TV</td>\n",
       "    </tr>\n",
       "    <tr>\n",
       "      <th>8785</th>\n",
       "      <td>s8797</td>\n",
       "      <td>TV Show</td>\n",
       "      <td>Yunus Emre</td>\n",
       "      <td>Not Given</td>\n",
       "      <td>Turkey</td>\n",
       "      <td>1/17/2017</td>\n",
       "      <td>2016</td>\n",
       "      <td>TV-PG</td>\n",
       "      <td>2 Seasons</td>\n",
       "      <td>International TV Shows, TV Dramas</td>\n",
       "    </tr>\n",
       "    <tr>\n",
       "      <th>8786</th>\n",
       "      <td>s8798</td>\n",
       "      <td>TV Show</td>\n",
       "      <td>Zak Storm</td>\n",
       "      <td>Not Given</td>\n",
       "      <td>United States</td>\n",
       "      <td>9/13/2018</td>\n",
       "      <td>2016</td>\n",
       "      <td>TV-Y7</td>\n",
       "      <td>3 Seasons</td>\n",
       "      <td>Kids' TV</td>\n",
       "    </tr>\n",
       "    <tr>\n",
       "      <th>8787</th>\n",
       "      <td>s8801</td>\n",
       "      <td>TV Show</td>\n",
       "      <td>Zindagi Gulzar Hai</td>\n",
       "      <td>Not Given</td>\n",
       "      <td>Pakistan</td>\n",
       "      <td>12/15/2016</td>\n",
       "      <td>2012</td>\n",
       "      <td>TV-PG</td>\n",
       "      <td>1 Season</td>\n",
       "      <td>International TV Shows, Romantic TV Shows, TV ...</td>\n",
       "    </tr>\n",
       "    <tr>\n",
       "      <th>8788</th>\n",
       "      <td>s8784</td>\n",
       "      <td>TV Show</td>\n",
       "      <td>Yoko</td>\n",
       "      <td>Not Given</td>\n",
       "      <td>Pakistan</td>\n",
       "      <td>6/23/2018</td>\n",
       "      <td>2016</td>\n",
       "      <td>TV-Y</td>\n",
       "      <td>1 Season</td>\n",
       "      <td>Kids' TV</td>\n",
       "    </tr>\n",
       "    <tr>\n",
       "      <th>8789</th>\n",
       "      <td>s8786</td>\n",
       "      <td>TV Show</td>\n",
       "      <td>YOM</td>\n",
       "      <td>Not Given</td>\n",
       "      <td>Pakistan</td>\n",
       "      <td>6/7/2018</td>\n",
       "      <td>2016</td>\n",
       "      <td>TV-Y7</td>\n",
       "      <td>1 Season</td>\n",
       "      <td>Kids' TV</td>\n",
       "    </tr>\n",
       "  </tbody>\n",
       "</table>\n",
       "</div>"
      ],
      "text/plain": [
       "     show_id     type                   title   director         country  \\\n",
       "8780   s8759  TV Show  World's Busiest Cities  Not Given  United Kingdom   \n",
       "8781   s8776  TV Show         Yeh Meri Family  Not Given           India   \n",
       "8782   s8781  TV Show            Yo-Kai Watch  Not Given   United States   \n",
       "8783   s8785    Movie    Yoko and His Friends  Not Given          Russia   \n",
       "8784   s8796  TV Show         Yu-Gi-Oh! Arc-V  Not Given           Japan   \n",
       "8785   s8797  TV Show              Yunus Emre  Not Given          Turkey   \n",
       "8786   s8798  TV Show               Zak Storm  Not Given   United States   \n",
       "8787   s8801  TV Show      Zindagi Gulzar Hai  Not Given        Pakistan   \n",
       "8788   s8784  TV Show                    Yoko  Not Given        Pakistan   \n",
       "8789   s8786  TV Show                     YOM  Not Given        Pakistan   \n",
       "\n",
       "      date_added  release_year rating   duration  \\\n",
       "8780    2/1/2019          2017  TV-PG   1 Season   \n",
       "8781   8/31/2018          2018  TV-PG   1 Season   \n",
       "8782    4/1/2016          2015  TV-Y7   1 Season   \n",
       "8783   6/23/2018          2015   TV-Y     78 min   \n",
       "8784    5/1/2018          2015  TV-Y7  2 Seasons   \n",
       "8785   1/17/2017          2016  TV-PG  2 Seasons   \n",
       "8786   9/13/2018          2016  TV-Y7  3 Seasons   \n",
       "8787  12/15/2016          2012  TV-PG   1 Season   \n",
       "8788   6/23/2018          2016   TV-Y   1 Season   \n",
       "8789    6/7/2018          2016  TV-Y7   1 Season   \n",
       "\n",
       "                                              listed_in  \n",
       "8780                       British TV Shows, Docuseries  \n",
       "8781                International TV Shows, TV Comedies  \n",
       "8782                             Anime Series, Kids' TV  \n",
       "8783                           Children & Family Movies  \n",
       "8784                             Anime Series, Kids' TV  \n",
       "8785                  International TV Shows, TV Dramas  \n",
       "8786                                           Kids' TV  \n",
       "8787  International TV Shows, Romantic TV Shows, TV ...  \n",
       "8788                                           Kids' TV  \n",
       "8789                                           Kids' TV  "
      ]
     },
     "execution_count": 9,
     "metadata": {},
     "output_type": "execute_result"
    }
   ],
   "source": [
    "data.tail(10)  #Last 10 rows "
   ]
  },
  {
   "cell_type": "code",
   "execution_count": 11,
   "id": "6605ce01",
   "metadata": {},
   "outputs": [
    {
     "data": {
      "text/plain": [
       "(8790, 10)"
      ]
     },
     "execution_count": 11,
     "metadata": {},
     "output_type": "execute_result"
    }
   ],
   "source": [
    "data.shape #rowws and columns"
   ]
  },
  {
   "cell_type": "code",
   "execution_count": 12,
   "id": "45d9c7a9",
   "metadata": {},
   "outputs": [
    {
     "data": {
      "text/plain": [
       "show_id         object\n",
       "type            object\n",
       "title           object\n",
       "director        object\n",
       "country         object\n",
       "date_added      object\n",
       "release_year     int64\n",
       "rating          object\n",
       "duration        object\n",
       "listed_in       object\n",
       "dtype: object"
      ]
     },
     "execution_count": 12,
     "metadata": {},
     "output_type": "execute_result"
    }
   ],
   "source": [
    "data.dtypes"
   ]
  },
  {
   "cell_type": "code",
   "execution_count": 13,
   "id": "65cdd70b",
   "metadata": {},
   "outputs": [
    {
     "name": "stdout",
     "output_type": "stream",
     "text": [
      "<class 'pandas.core.frame.DataFrame'>\n",
      "RangeIndex: 8790 entries, 0 to 8789\n",
      "Data columns (total 10 columns):\n",
      " #   Column        Non-Null Count  Dtype \n",
      "---  ------        --------------  ----- \n",
      " 0   show_id       8790 non-null   object\n",
      " 1   type          8790 non-null   object\n",
      " 2   title         8790 non-null   object\n",
      " 3   director      8790 non-null   object\n",
      " 4   country       8790 non-null   object\n",
      " 5   date_added    8790 non-null   object\n",
      " 6   release_year  8790 non-null   int64 \n",
      " 7   rating        8790 non-null   object\n",
      " 8   duration      8790 non-null   object\n",
      " 9   listed_in     8790 non-null   object\n",
      "dtypes: int64(1), object(9)\n",
      "memory usage: 686.8+ KB\n"
     ]
    }
   ],
   "source": [
    "data.info()"
   ]
  },
  {
   "cell_type": "code",
   "execution_count": 16,
   "id": "d4930549",
   "metadata": {},
   "outputs": [],
   "source": [
    "# Data Cleaning Process"
   ]
  },
  {
   "cell_type": "code",
   "execution_count": 31,
   "id": "18b1a1b8",
   "metadata": {},
   "outputs": [
    {
     "data": {
      "text/plain": [
       "Index(['show_id', 'type', 'title', 'director', 'country', 'date_added',\n",
       "       'release_year', 'rating', 'duration', 'listed_in'],\n",
       "      dtype='object')"
      ]
     },
     "execution_count": 31,
     "metadata": {},
     "output_type": "execute_result"
    }
   ],
   "source": [
    "data.columns"
   ]
  },
  {
   "cell_type": "code",
   "execution_count": 18,
   "id": "7da895d1",
   "metadata": {},
   "outputs": [
    {
     "data": {
      "text/plain": [
       "show_id         0\n",
       "type            0\n",
       "title           0\n",
       "director        0\n",
       "country         0\n",
       "date_added      0\n",
       "release_year    0\n",
       "rating          0\n",
       "duration        0\n",
       "listed_in       0\n",
       "dtype: int64"
      ]
     },
     "execution_count": 18,
     "metadata": {},
     "output_type": "execute_result"
    }
   ],
   "source": [
    "data.isnull().sum()  #Checking if Any Null values present inside the dataset?"
   ]
  },
  {
   "cell_type": "code",
   "execution_count": 39,
   "id": "187c9a50",
   "metadata": {},
   "outputs": [
    {
     "data": {
      "text/plain": [
       "<Axes: >"
      ]
     },
     "execution_count": 39,
     "metadata": {},
     "output_type": "execute_result"
    },
    {
     "data": {
      "image/png": "[encoded data removed]",
      "text/plain": [
       "<Figure size 640x480 with 2 Axes>"
      ]
     },
     "metadata": {},
     "output_type": "display_data"
    }
   ],
   "source": [
    "sns.heatmap(data.isnull())   #Heatmap to check the Null values"
   ]
  },
  {
   "cell_type": "code",
   "execution_count": 40,
   "id": "7bc5c32d",
   "metadata": {},
   "outputs": [],
   "source": [
    "data.dropna(subset=['director',  'country'],\n",
    "inplace=True) # Hence Drop rows with missing critical information\n",
    "\n"
   ]
  },
  {
   "cell_type": "code",
   "execution_count": 21,
   "id": "9584d36d",
   "metadata": {},
   "outputs": [
    {
     "data": {
      "text/plain": [
       "0       False\n",
       "1       False\n",
       "2       False\n",
       "3       False\n",
       "4       False\n",
       "        ...  \n",
       "8785    False\n",
       "8786    False\n",
       "8787    False\n",
       "8788    False\n",
       "8789    False\n",
       "Length: 8790, dtype: bool"
      ]
     },
     "execution_count": 21,
     "metadata": {},
     "output_type": "execute_result"
    }
   ],
   "source": [
    "data.duplicated()  #Checking if any duplicate values present?"
   ]
  },
  {
   "cell_type": "code",
   "execution_count": 24,
   "id": "3ebaa8f8",
   "metadata": {},
   "outputs": [],
   "source": [
    "data.drop_duplicates(inplace=True)  #Hence we do not have any duplicates present in the data but still it is the best \n",
    "                                       #practice to run this function\n",
    "                                      "
   ]
  },
  {
   "cell_type": "code",
   "execution_count": 34,
   "id": "5e3c2c1c",
   "metadata": {},
   "outputs": [],
   "source": [
    "data['date_added'] = pd.to_datetime(data['date_added']) # To # Convert 'date_added' to datetime\n"
   ]
  },
  {
   "cell_type": "code",
   "execution_count": 36,
   "id": "8de71479",
   "metadata": {},
   "outputs": [
    {
     "data": {
      "text/plain": [
       "show_id                 object\n",
       "type                    object\n",
       "title                   object\n",
       "director                object\n",
       "country                 object\n",
       "date_added      datetime64[ns]\n",
       "release_year             int64\n",
       "rating                  object\n",
       "duration                object\n",
       "listed_in               object\n",
       "dtype: object"
      ]
     },
     "execution_count": 36,
     "metadata": {},
     "output_type": "execute_result"
    }
   ],
   "source": [
    "data.dtypes   #Lets Confirm if its changed "
   ]
  },
  {
   "cell_type": "code",
   "execution_count": null,
   "id": "80cfb265",
   "metadata": {},
   "outputs": [],
   "source": [
    "#3 Lets Perform Exploratory Data Analysis EDA"
   ]
  },
  {
   "cell_type": "code",
   "execution_count": 44,
   "id": "0021f894",
   "metadata": {},
   "outputs": [
    {
     "data": {
      "text/plain": [
       "Index(['show_id', 'type', 'title', 'director', 'country', 'date_added',\n",
       "       'release_year', 'rating', 'duration', 'listed_in'],\n",
       "      dtype='object')"
      ]
     },
     "execution_count": 44,
     "metadata": {},
     "output_type": "execute_result"
    }
   ],
   "source": [
    "data.columns"
   ]
  },
  {
   "cell_type": "code",
   "execution_count": null,
   "id": "0d7c08ef",
   "metadata": {},
   "outputs": [],
   "source": [
    "# Q1 Count the number of Movies and Tv Shows , Content Distribution on Netflix"
   ]
  },
  {
   "cell_type": "code",
   "execution_count": 43,
   "id": "550cbf04",
   "metadata": {},
   "outputs": [
    {
     "data": {
      "text/plain": [
       "Movie      6126\n",
       "TV Show    2664\n",
       "Name: type, dtype: int64"
      ]
     },
     "execution_count": 43,
     "metadata": {},
     "output_type": "execute_result"
    }
   ],
   "source": [
    "type_counts = data['type'].value_counts()  #Count the number of Movies and TV Shows \n",
    "type_counts"
   ]
  },
  {
   "cell_type": "code",
   "execution_count": 49,
   "id": "f2f75e74",
   "metadata": {},
   "outputs": [
    {
     "data": {
      "text/plain": [
       "Text(0, 0.5, 'Count')"
      ]
     },
     "execution_count": 49,
     "metadata": {},
     "output_type": "execute_result"
    },
    {
     "data": {
      "image/png": "[encoded data removed]",
      "text/plain": [
       "<Figure size 640x480 with 1 Axes>"
      ]
     },
     "metadata": {},
     "output_type": "display_data"
    }
   ],
   "source": [
    "sns.barplot(x=type_counts.index , y=type_counts.values) #Lets see Count of movies,tv shows using bargrah\n",
    "plt.title('Distribution of Content by Type') \n",
    "plt.xlabel('Type')\n",
    "plt.ylabel('Count')\n"
   ]
  },
  {
   "cell_type": "code",
   "execution_count": null,
   "id": "e931ed74",
   "metadata": {},
   "outputs": [],
   "source": [
    "# Q2 Find the Most Common Genres\n"
   ]
  },
  {
   "cell_type": "code",
   "execution_count": 52,
   "id": "2b9b5aa8",
   "metadata": {},
   "outputs": [
    {
     "data": {
      "text/plain": [
       "Index(['show_id', 'type', 'title', 'director', 'country', 'date_added',\n",
       "       'release_year', 'rating', 'duration', 'listed_in'],\n",
       "      dtype='object')"
      ]
     },
     "execution_count": 52,
     "metadata": {},
     "output_type": "execute_result"
    }
   ],
   "source": [
    "data.columns"
   ]
  },
  {
   "cell_type": "code",
   "execution_count": 57,
   "id": "5f3a1bd7",
   "metadata": {},
   "outputs": [],
   "source": [
    "data['genres'] = data['listed_in'].apply(lambda x: x.split(','))   # Split the 'listed_in' column and count genres\n",
    "all_genres = sum(data['genres'], [])\n",
    "genre_counts = pd.Series(all_genres).value_counts().head(10)\n",
    "\n"
   ]
  },
  {
   "cell_type": "code",
   "execution_count": 58,
   "id": "680b58cb",
   "metadata": {},
   "outputs": [
    {
     "data": {
      "text/plain": [
       "Text(0, 0.5, 'Genre')"
      ]
     },
     "execution_count": 58,
     "metadata": {},
     "output_type": "execute_result"
    },
    {
     "data": {
      "image/png": "[encoded data removed]",
      "text/plain": [
       "<Figure size 640x480 with 1 Axes>"
      ]
     },
     "metadata": {},
     "output_type": "display_data"
    }
   ],
   "source": [
    "sns.barplot(x=genre_counts.values, y=genre_counts.index,  #Using barchart # Plot the most common genres\n",
    "palette='Set3')\n",
    "plt.title('Most Common Genres on Netflix')\n",
    "plt.xlabel('Count')\n",
    "plt.ylabel('Genre')\n"
   ]
  },
  {
   "cell_type": "code",
   "execution_count": null,
   "id": "76fb0b23",
   "metadata": {},
   "outputs": [],
   "source": [
    "# Q3 find the Content added over time"
   ]
  },
  {
   "cell_type": "code",
   "execution_count": 59,
   "id": "6aab0d98",
   "metadata": {},
   "outputs": [],
   "source": [
    "\n",
    "data['year_added'] = data['date_added'].dt.year       # Extract year and month from 'date_added'\n",
    "data['month_added'] = data['date_added'].dt.month"
   ]
  },
  {
   "cell_type": "code",
   "execution_count": 61,
   "id": "b8b4c693",
   "metadata": {},
   "outputs": [
    {
     "data": {
      "text/plain": [
       "Text(0, 0.5, 'Count')"
      ]
     },
     "execution_count": 61,
     "metadata": {},
     "output_type": "execute_result"
    },
    {
     "data": {
      "image/png": "[encoded data removed]",
      "text/plain": [
       "<Figure size 640x480 with 1 Axes>"
      ]
     },
     "metadata": {},
     "output_type": "display_data"
    }
   ],
   "source": [
    "sns.countplot(x='year_added', data=data)   # Plot content added over the years using histogram or barchart\n",
    "plt.title('Content Added Over Time')\n",
    "plt.xlabel('Year')\n",
    "plt.ylabel('Count')"
   ]
  },
  {
   "cell_type": "code",
   "execution_count": 62,
   "id": "4f70138c",
   "metadata": {},
   "outputs": [],
   "source": [
    "# Q4 Find the Top 10 Directors with the Most Titles\n"
   ]
  },
  {
   "cell_type": "code",
   "execution_count": 63,
   "id": "22354a0f",
   "metadata": {},
   "outputs": [
    {
     "data": {
      "text/plain": [
       "Not Given                 2588\n",
       "Rajiv Chilaka               20\n",
       "Alastair Fothergill         18\n",
       "Raúl Campos, Jan Suter      18\n",
       "Suhas Kadav                 16\n",
       "Marcus Raboy                16\n",
       "Jay Karas                   14\n",
       "Cathy Garcia-Molina         13\n",
       "Martin Scorsese             12\n",
       "Youssef Chahine             12\n",
       "Name: director, dtype: int64"
      ]
     },
     "execution_count": 63,
     "metadata": {},
     "output_type": "execute_result"
    }
   ],
   "source": [
    "top_directors = data['director'].value_counts().head(10)  # Count titles by director\n",
    "top_directors"
   ]
  },
  {
   "cell_type": "code",
   "execution_count": 64,
   "id": "796fa080",
   "metadata": {},
   "outputs": [
    {
     "data": {
      "text/plain": [
       "Text(0, 0.5, 'Director')"
      ]
     },
     "execution_count": 64,
     "metadata": {},
     "output_type": "execute_result"
    },
    {
     "data": {
      "image/png": "[encoded data removed]",
      "text/plain": [
       "<Figure size 640x480 with 1 Axes>"
      ]
     },
     "metadata": {},
     "output_type": "display_data"
    }
   ],
   "source": [
    "sns.barplot(x=top_directors.values, y=top_directors.index)  #Visualization of Top 10 Diirectors with Most Titles\n",
    "plt.title('Top 10 Directors with the Most Titles')\n",
    "plt.xlabel('Number of Titles')\n",
    "plt.ylabel('Director')"
   ]
  },
  {
   "cell_type": "code",
   "execution_count": 65,
   "id": "1d2de6e5",
   "metadata": {},
   "outputs": [],
   "source": [
    "# Q5 Find the Most Rated Movies and Tv Shows on Netflix?"
   ]
  },
  {
   "cell_type": "code",
   "execution_count": 67,
   "id": "0ad98e7f",
   "metadata": {},
   "outputs": [
    {
     "data": {
      "text/plain": [
       "Index(['show_id', 'type', 'title', 'director', 'country', 'date_added',\n",
       "       'release_year', 'rating', 'duration', 'listed_in', 'genres',\n",
       "       'year_added', 'month_added'],\n",
       "      dtype='object')"
      ]
     },
     "execution_count": 67,
     "metadata": {},
     "output_type": "execute_result"
    }
   ],
   "source": [
    "data.columns\n"
   ]
  },
  {
   "cell_type": "code",
   "execution_count": 68,
   "id": "4ed968b9",
   "metadata": {},
   "outputs": [
    {
     "data": {
      "text/plain": [
       "TV-MA       3205\n",
       "TV-14       2157\n",
       "TV-PG        861\n",
       "R            799\n",
       "PG-13        490\n",
       "TV-Y7        333\n",
       "TV-Y         306\n",
       "PG           287\n",
       "TV-G         220\n",
       "NR            79\n",
       "G             41\n",
       "TV-Y7-FV       6\n",
       "NC-17          3\n",
       "UR             3\n",
       "Name: rating, dtype: int64"
      ]
     },
     "execution_count": 68,
     "metadata": {},
     "output_type": "execute_result"
    }
   ],
   "source": [
    "data['rating'].value_counts()   #To check "
   ]
  },
  {
   "cell_type": "code",
   "execution_count": 81,
   "id": "e957627b",
   "metadata": {},
   "outputs": [],
   "source": [
    "ratings = data['rating'].value_counts().reset_index().sort_values(by='rating', ascending=False)\n"
   ]
  },
  {
   "cell_type": "code",
   "execution_count": 83,
   "id": "b8eb4e30",
   "metadata": {},
   "outputs": [
    {
     "data": {
      "text/plain": [
       "Text(0.5, 0.98, 'Rating on Netflix')"
      ]
     },
     "execution_count": 83,
     "metadata": {},
     "output_type": "execute_result"
    },
    {
     "data": {
      "image/png": "[encoded data removed]",
      "text/plain": [
       "<Figure size 640x480 with 1 Axes>"
      ]
     },
     "metadata": {},
     "output_type": "display_data"
    }
   ],
   "source": [
    "plt.bar(ratings['rating'], ratings['rating'])\n",
    "plt.xticks(rotation=45, ha='right')\n",
    "plt.xlabel(\"Rating Types\")\n",
    "plt.ylabel(\"Rating Frequency\")\n",
    "plt.suptitle('Rating on Netflix', fontsize=20)\n",
    "\n"
   ]
  },
  {
   "cell_type": "code",
   "execution_count": 85,
   "id": "0642d887",
   "metadata": {},
   "outputs": [],
   "source": [
    "# Q6 Find the Released movie over the years?\n"
   ]
  },
  {
   "cell_type": "code",
   "execution_count": 91,
   "id": "368a19eb",
   "metadata": {},
   "outputs": [
    {
     "data": {
      "text/plain": [
       "Index(['show_id', 'type', 'title', 'director', 'country', 'date_added',\n",
       "       'release_year', 'rating', 'duration', 'listed_in', 'genres',\n",
       "       'year_added', 'month_added'],\n",
       "      dtype='object')"
      ]
     },
     "execution_count": 91,
     "metadata": {},
     "output_type": "execute_result"
    }
   ],
   "source": [
    "data.columns"
   ]
  },
  {
   "cell_type": "code",
   "execution_count": 100,
   "id": "0b31c021",
   "metadata": {},
   "outputs": [
    {
     "data": {
      "text/plain": [
       "release_year\n",
       "2018    1146\n",
       "2019    1030\n",
       "2017    1030\n",
       "2020     953\n",
       "2016     901\n",
       "        ... \n",
       "1959       1\n",
       "1961       1\n",
       "1947       1\n",
       "1966       1\n",
       "1925       1\n",
       "Name: release_year, Length: 74, dtype: int64"
      ]
     },
     "execution_count": 100,
     "metadata": {},
     "output_type": "execute_result"
    }
   ],
   "source": [
    "data.groupby(['release_year'])['release_year'].count().sort_values(ascending = False) # no. of movies released by every year"
   ]
  },
  {
   "cell_type": "code",
   "execution_count": 103,
   "id": "8a0687a8",
   "metadata": {},
   "outputs": [
    {
     "data": {
      "image/png": "[encoded data removed]",
      "text/plain": [
       "<Figure size 2000x2000 with 1 Axes>"
      ]
     },
     "metadata": {},
     "output_type": "display_data"
    }
   ],
   "source": [
    "sns.countplot(x='release_year', data=data).set_title('Count plot for Movies with passing Years.')\n",
    "sns.set(rc={'figure.figsize':(20,20)})\n",
    "plt.show()"
   ]
  },
  {
   "cell_type": "code",
   "execution_count": 104,
   "id": "cb62aec3",
   "metadata": {},
   "outputs": [],
   "source": [
    "#From the above we can see that with passing years more movies are being made year by year\n",
    "\n",
    "#The above data shows that there is a sudden increase in the creation of movies in year 2016 as compared to year 2015\n",
    "\n",
    "\n"
   ]
  },
  {
   "cell_type": "code",
   "execution_count": 105,
   "id": "9f3f77c5",
   "metadata": {},
   "outputs": [],
   "source": [
    "# Q7 In which year highest number of the TV shows & Movies were released? show with Bar Graph."
   ]
  },
  {
   "cell_type": "code",
   "execution_count": 106,
   "id": "21a08d36",
   "metadata": {},
   "outputs": [
    {
     "data": {
      "text/plain": [
       "Index(['show_id', 'type', 'title', 'director', 'country', 'date_added',\n",
       "       'release_year', 'rating', 'duration', 'listed_in', 'genres',\n",
       "       'year_added', 'month_added'],\n",
       "      dtype='object')"
      ]
     },
     "execution_count": 106,
     "metadata": {},
     "output_type": "execute_result"
    }
   ],
   "source": [
    "data.columns"
   ]
  },
  {
   "cell_type": "code",
   "execution_count": 107,
   "id": "5763f9a7",
   "metadata": {},
   "outputs": [
    {
     "data": {
      "text/plain": [
       "2019    2016\n",
       "2020    1879\n",
       "2018    1648\n",
       "2021    1498\n",
       "2017    1185\n",
       "2016     426\n",
       "2015      82\n",
       "2014      24\n",
       "2011      13\n",
       "2013      11\n",
       "2012       3\n",
       "2009       2\n",
       "2008       2\n",
       "2010       1\n",
       "Name: date_added, dtype: int64"
      ]
     },
     "execution_count": 107,
     "metadata": {},
     "output_type": "execute_result"
    }
   ],
   "source": [
    "data[\"date_added\"].dt.year.value_counts() #To Exctract year To find the Highest movie released year"
   ]
  },
  {
   "cell_type": "code",
   "execution_count": 108,
   "id": "dfa8af3b",
   "metadata": {},
   "outputs": [
    {
     "data": {
      "text/plain": [
       "<Axes: >"
      ]
     },
     "execution_count": 108,
     "metadata": {},
     "output_type": "execute_result"
    },
    {
     "data": {
      "image/png": "[encoded data removed]",
      "text/plain": [
       "<Figure size 2000x2000 with 1 Axes>"
      ]
     },
     "metadata": {},
     "output_type": "display_data"
    }
   ],
   "source": [
    "data[\"date_added\"].dt.year.value_counts().plot(kind='bar')  "
   ]
  },
  {
   "cell_type": "code",
   "execution_count": 109,
   "id": "b228b769",
   "metadata": {},
   "outputs": [],
   "source": [
    "# From the above Visualization we can clearly get the answer that 2019 has the highest movie released year"
   ]
  },
  {
   "cell_type": "code",
   "execution_count": null,
   "id": "667e1372",
   "metadata": {},
   "outputs": [],
   "source": []
  },
  {
   "cell_type": "code",
   "execution_count": 110,
   "id": "15beda8f",
   "metadata": {},
   "outputs": [],
   "source": [
    "# Q8  Show all the movies that were released in year 2000"
   ]
  },
  {
   "cell_type": "code",
   "execution_count": 111,
   "id": "0307bd83",
   "metadata": {},
   "outputs": [
    {
     "data": {
      "text/plain": [
       "Index(['show_id', 'type', 'title', 'director', 'country', 'date_added',\n",
       "       'release_year', 'rating', 'duration', 'listed_in', 'genres',\n",
       "       'year_added', 'month_added'],\n",
       "      dtype='object')"
      ]
     },
     "execution_count": 111,
     "metadata": {},
     "output_type": "execute_result"
    }
   ],
   "source": [
    "data.columns"
   ]
  },
  {
   "cell_type": "code",
   "execution_count": 112,
   "id": "6ca3fc93",
   "metadata": {},
   "outputs": [
    {
     "data": {
      "text/html": [
       "<div>\n",
       "<style scoped>\n",
       "    .dataframe tbody tr th:only-of-type {\n",
       "        vertical-align: middle;\n",
       "    }\n",
       "\n",
       "    .dataframe tbody tr th {\n",
       "        vertical-align: top;\n",
       "    }\n",
       "\n",
       "    .dataframe thead th {\n",
       "        text-align: right;\n",
       "    }\n",
       "</style>\n",
       "<table border=\"1\" class=\"dataframe\">\n",
       "  <thead>\n",
       "    <tr style=\"text-align: right;\">\n",
       "      <th></th>\n",
       "      <th>show_id</th>\n",
       "      <th>type</th>\n",
       "      <th>title</th>\n",
       "      <th>director</th>\n",
       "      <th>country</th>\n",
       "      <th>date_added</th>\n",
       "      <th>release_year</th>\n",
       "      <th>rating</th>\n",
       "      <th>duration</th>\n",
       "      <th>listed_in</th>\n",
       "      <th>genres</th>\n",
       "      <th>year_added</th>\n",
       "      <th>month_added</th>\n",
       "    </tr>\n",
       "  </thead>\n",
       "  <tbody>\n",
       "    <tr>\n",
       "      <th>252</th>\n",
       "      <td>s181</td>\n",
       "      <td>Movie</td>\n",
       "      <td>The Nutty Professor II: The Klumps</td>\n",
       "      <td>Peter Segal</td>\n",
       "      <td>United States</td>\n",
       "      <td>2021-09-01</td>\n",
       "      <td>2000</td>\n",
       "      <td>PG-13</td>\n",
       "      <td>107 min</td>\n",
       "      <td>Comedies, Romantic Movies</td>\n",
       "      <td>[Comedies,  Romantic Movies]</td>\n",
       "      <td>2021</td>\n",
       "      <td>9</td>\n",
       "    </tr>\n",
       "    <tr>\n",
       "      <th>494</th>\n",
       "      <td>s351</td>\n",
       "      <td>Movie</td>\n",
       "      <td>Space Cowboys</td>\n",
       "      <td>Clint Eastwood</td>\n",
       "      <td>United States</td>\n",
       "      <td>2021-08-01</td>\n",
       "      <td>2000</td>\n",
       "      <td>PG-13</td>\n",
       "      <td>130 min</td>\n",
       "      <td>Action &amp; Adventure, Dramas, Sci-Fi &amp; Fantasy</td>\n",
       "      <td>[Action &amp; Adventure,  Dramas,  Sci-Fi &amp; Fantasy]</td>\n",
       "      <td>2021</td>\n",
       "      <td>8</td>\n",
       "    </tr>\n",
       "    <tr>\n",
       "      <th>503</th>\n",
       "      <td>s360</td>\n",
       "      <td>Movie</td>\n",
       "      <td>The Original Kings of Comedy</td>\n",
       "      <td>Spike Lee</td>\n",
       "      <td>United States</td>\n",
       "      <td>2021-08-01</td>\n",
       "      <td>2000</td>\n",
       "      <td>R</td>\n",
       "      <td>111 min</td>\n",
       "      <td>Stand-Up Comedy</td>\n",
       "      <td>[Stand-Up Comedy]</td>\n",
       "      <td>2021</td>\n",
       "      <td>8</td>\n",
       "    </tr>\n",
       "    <tr>\n",
       "      <th>717</th>\n",
       "      <td>s567</td>\n",
       "      <td>Movie</td>\n",
       "      <td>Charlie's Angels</td>\n",
       "      <td>McG</td>\n",
       "      <td>United States</td>\n",
       "      <td>2021-07-01</td>\n",
       "      <td>2000</td>\n",
       "      <td>PG-13</td>\n",
       "      <td>98 min</td>\n",
       "      <td>Action &amp; Adventure, Comedies</td>\n",
       "      <td>[Action &amp; Adventure,  Comedies]</td>\n",
       "      <td>2021</td>\n",
       "      <td>7</td>\n",
       "    </tr>\n",
       "    <tr>\n",
       "      <th>741</th>\n",
       "      <td>s594</td>\n",
       "      <td>Movie</td>\n",
       "      <td>Snow Day</td>\n",
       "      <td>Chris Koch</td>\n",
       "      <td>United States</td>\n",
       "      <td>2021-07-01</td>\n",
       "      <td>2000</td>\n",
       "      <td>PG</td>\n",
       "      <td>89 min</td>\n",
       "      <td>Children &amp; Family Movies, Comedies</td>\n",
       "      <td>[Children &amp; Family Movies,  Comedies]</td>\n",
       "      <td>2021</td>\n",
       "      <td>7</td>\n",
       "    </tr>\n",
       "    <tr>\n",
       "      <th>859</th>\n",
       "      <td>s780</td>\n",
       "      <td>Movie</td>\n",
       "      <td>Battlefield Earth</td>\n",
       "      <td>Roger Christian</td>\n",
       "      <td>United States</td>\n",
       "      <td>2021-06-02</td>\n",
       "      <td>2000</td>\n",
       "      <td>PG-13</td>\n",
       "      <td>118 min</td>\n",
       "      <td>Action &amp; Adventure, Cult Movies, Sci-Fi &amp; Fantasy</td>\n",
       "      <td>[Action &amp; Adventure,  Cult Movies,  Sci-Fi &amp; F...</td>\n",
       "      <td>2021</td>\n",
       "      <td>6</td>\n",
       "    </tr>\n",
       "    <tr>\n",
       "      <th>983</th>\n",
       "      <td>s953</td>\n",
       "      <td>Movie</td>\n",
       "      <td>The Whole Nine Yards</td>\n",
       "      <td>Jonathan Lynn</td>\n",
       "      <td>United States</td>\n",
       "      <td>2021-05-01</td>\n",
       "      <td>2000</td>\n",
       "      <td>R</td>\n",
       "      <td>99 min</td>\n",
       "      <td>Action &amp; Adventure, Comedies</td>\n",
       "      <td>[Action &amp; Adventure,  Comedies]</td>\n",
       "      <td>2021</td>\n",
       "      <td>5</td>\n",
       "    </tr>\n",
       "    <tr>\n",
       "      <th>2644</th>\n",
       "      <td>s3473</td>\n",
       "      <td>Movie</td>\n",
       "      <td>Rugrats in Paris: The Movie</td>\n",
       "      <td>Stig Bergqvist, Paul Demeyer</td>\n",
       "      <td>Germany</td>\n",
       "      <td>2019-10-01</td>\n",
       "      <td>2000</td>\n",
       "      <td>G</td>\n",
       "      <td>79 min</td>\n",
       "      <td>Children &amp; Family Movies, Comedies</td>\n",
       "      <td>[Children &amp; Family Movies,  Comedies]</td>\n",
       "      <td>2019</td>\n",
       "      <td>10</td>\n",
       "    </tr>\n",
       "    <tr>\n",
       "      <th>3299</th>\n",
       "      <td>s4546</td>\n",
       "      <td>Movie</td>\n",
       "      <td>Monty Python: Before the Flying Circus</td>\n",
       "      <td>Will Yapp</td>\n",
       "      <td>United Kingdom</td>\n",
       "      <td>2018-10-02</td>\n",
       "      <td>2000</td>\n",
       "      <td>TV-MA</td>\n",
       "      <td>56 min</td>\n",
       "      <td>Comedies, Documentaries</td>\n",
       "      <td>[Comedies,  Documentaries]</td>\n",
       "      <td>2018</td>\n",
       "      <td>10</td>\n",
       "    </tr>\n",
       "    <tr>\n",
       "      <th>3420</th>\n",
       "      <td>s4724</td>\n",
       "      <td>Movie</td>\n",
       "      <td>Fiza</td>\n",
       "      <td>Khalid Mohamed</td>\n",
       "      <td>India</td>\n",
       "      <td>2018-08-02</td>\n",
       "      <td>2000</td>\n",
       "      <td>TV-14</td>\n",
       "      <td>163 min</td>\n",
       "      <td>Dramas, International Movies, Music &amp; Musicals</td>\n",
       "      <td>[Dramas,  International Movies,  Music &amp; Music...</td>\n",
       "      <td>2018</td>\n",
       "      <td>8</td>\n",
       "    </tr>\n",
       "    <tr>\n",
       "      <th>3585</th>\n",
       "      <td>s4957</td>\n",
       "      <td>Movie</td>\n",
       "      <td>Phir Bhi Dil Hai Hindustani</td>\n",
       "      <td>Aziz Mirza</td>\n",
       "      <td>India</td>\n",
       "      <td>2018-04-01</td>\n",
       "      <td>2000</td>\n",
       "      <td>TV-14</td>\n",
       "      <td>159 min</td>\n",
       "      <td>Comedies, Dramas, International Movies</td>\n",
       "      <td>[Comedies,  Dramas,  International Movies]</td>\n",
       "      <td>2018</td>\n",
       "      <td>4</td>\n",
       "    </tr>\n",
       "    <tr>\n",
       "      <th>4249</th>\n",
       "      <td>s5954</td>\n",
       "      <td>Movie</td>\n",
       "      <td>Joseph: King of Dreams</td>\n",
       "      <td>Rob LaDuca, Robert C. Ramirez</td>\n",
       "      <td>United States</td>\n",
       "      <td>2011-09-27</td>\n",
       "      <td>2000</td>\n",
       "      <td>TV-PG</td>\n",
       "      <td>75 min</td>\n",
       "      <td>Children &amp; Family Movies, Dramas, Faith &amp; Spir...</td>\n",
       "      <td>[Children &amp; Family Movies,  Dramas,  Faith &amp; S...</td>\n",
       "      <td>2011</td>\n",
       "      <td>9</td>\n",
       "    </tr>\n",
       "    <tr>\n",
       "      <th>4292</th>\n",
       "      <td>s6007</td>\n",
       "      <td>Movie</td>\n",
       "      <td>28 Days</td>\n",
       "      <td>Betty Thomas</td>\n",
       "      <td>United States</td>\n",
       "      <td>2020-09-30</td>\n",
       "      <td>2000</td>\n",
       "      <td>PG-13</td>\n",
       "      <td>104 min</td>\n",
       "      <td>Comedies, Dramas</td>\n",
       "      <td>[Comedies,  Dramas]</td>\n",
       "      <td>2020</td>\n",
       "      <td>9</td>\n",
       "    </tr>\n",
       "    <tr>\n",
       "      <th>4417</th>\n",
       "      <td>s6148</td>\n",
       "      <td>Movie</td>\n",
       "      <td>American Psycho</td>\n",
       "      <td>Mary Harron</td>\n",
       "      <td>United States</td>\n",
       "      <td>2019-09-01</td>\n",
       "      <td>2000</td>\n",
       "      <td>R</td>\n",
       "      <td>102 min</td>\n",
       "      <td>Comedies, Cult Movies, Dramas</td>\n",
       "      <td>[Comedies,  Cult Movies,  Dramas]</td>\n",
       "      <td>2019</td>\n",
       "      <td>9</td>\n",
       "    </tr>\n",
       "    <tr>\n",
       "      <th>4424</th>\n",
       "      <td>s6155</td>\n",
       "      <td>Movie</td>\n",
       "      <td>An American Tail: The Treasures of Manhattan I...</td>\n",
       "      <td>Larry Latham</td>\n",
       "      <td>United States</td>\n",
       "      <td>2018-04-01</td>\n",
       "      <td>2000</td>\n",
       "      <td>G</td>\n",
       "      <td>79 min</td>\n",
       "      <td>Children &amp; Family Movies</td>\n",
       "      <td>[Children &amp; Family Movies]</td>\n",
       "      <td>2018</td>\n",
       "      <td>4</td>\n",
       "    </tr>\n",
       "    <tr>\n",
       "      <th>4551</th>\n",
       "      <td>s6312</td>\n",
       "      <td>Movie</td>\n",
       "      <td>Billy Elliot</td>\n",
       "      <td>Stephen Daldry</td>\n",
       "      <td>United Kingdom</td>\n",
       "      <td>2019-02-01</td>\n",
       "      <td>2000</td>\n",
       "      <td>R</td>\n",
       "      <td>110 min</td>\n",
       "      <td>Dramas, Independent Movies, International Movies</td>\n",
       "      <td>[Dramas,  Independent Movies,  International M...</td>\n",
       "      <td>2019</td>\n",
       "      <td>2</td>\n",
       "    </tr>\n",
       "    <tr>\n",
       "      <th>4650</th>\n",
       "      <td>s6438</td>\n",
       "      <td>Movie</td>\n",
       "      <td>Center Stage</td>\n",
       "      <td>Nicholas Hytner</td>\n",
       "      <td>United States</td>\n",
       "      <td>2020-01-01</td>\n",
       "      <td>2000</td>\n",
       "      <td>PG-13</td>\n",
       "      <td>116 min</td>\n",
       "      <td>Dramas</td>\n",
       "      <td>[Dramas]</td>\n",
       "      <td>2020</td>\n",
       "      <td>1</td>\n",
       "    </tr>\n",
       "    <tr>\n",
       "      <th>4653</th>\n",
       "      <td>s6441</td>\n",
       "      <td>Movie</td>\n",
       "      <td>Chal Mere Bhai</td>\n",
       "      <td>David Dhawan</td>\n",
       "      <td>India</td>\n",
       "      <td>2019-12-31</td>\n",
       "      <td>2000</td>\n",
       "      <td>TV-14</td>\n",
       "      <td>132 min</td>\n",
       "      <td>Comedies, International Movies, Romantic Movies</td>\n",
       "      <td>[Comedies,  International Movies,  Romantic Mo...</td>\n",
       "      <td>2019</td>\n",
       "      <td>12</td>\n",
       "    </tr>\n",
       "    <tr>\n",
       "      <th>4729</th>\n",
       "      <td>s6544</td>\n",
       "      <td>Movie</td>\n",
       "      <td>Crouching Tiger, Hidden Dragon</td>\n",
       "      <td>Ang Lee</td>\n",
       "      <td>Taiwan</td>\n",
       "      <td>2019-03-01</td>\n",
       "      <td>2000</td>\n",
       "      <td>PG-13</td>\n",
       "      <td>120 min</td>\n",
       "      <td>Action &amp; Adventure, International Movies, Roma...</td>\n",
       "      <td>[Action &amp; Adventure,  International Movies,  R...</td>\n",
       "      <td>2019</td>\n",
       "      <td>3</td>\n",
       "    </tr>\n",
       "    <tr>\n",
       "      <th>4814</th>\n",
       "      <td>s6644</td>\n",
       "      <td>Movie</td>\n",
       "      <td>Dragonheart: A New Beginning</td>\n",
       "      <td>Doug Lefler</td>\n",
       "      <td>United States</td>\n",
       "      <td>2020-01-01</td>\n",
       "      <td>2000</td>\n",
       "      <td>PG</td>\n",
       "      <td>84 min</td>\n",
       "      <td>Action &amp; Adventure, Sci-Fi &amp; Fantasy</td>\n",
       "      <td>[Action &amp; Adventure,  Sci-Fi &amp; Fantasy]</td>\n",
       "      <td>2020</td>\n",
       "      <td>1</td>\n",
       "    </tr>\n",
       "    <tr>\n",
       "      <th>4893</th>\n",
       "      <td>s6754</td>\n",
       "      <td>Movie</td>\n",
       "      <td>Final Destination</td>\n",
       "      <td>James Wong</td>\n",
       "      <td>United States</td>\n",
       "      <td>2020-01-01</td>\n",
       "      <td>2000</td>\n",
       "      <td>R</td>\n",
       "      <td>98 min</td>\n",
       "      <td>Cult Movies, Horror Movies, Thrillers</td>\n",
       "      <td>[Cult Movies,  Horror Movies,  Thrillers]</td>\n",
       "      <td>2020</td>\n",
       "      <td>1</td>\n",
       "    </tr>\n",
       "    <tr>\n",
       "      <th>5018</th>\n",
       "      <td>s6913</td>\n",
       "      <td>Movie</td>\n",
       "      <td>Hamara Dil Aapke Paas Hai</td>\n",
       "      <td>Satish Kaushik</td>\n",
       "      <td>India</td>\n",
       "      <td>2018-03-01</td>\n",
       "      <td>2000</td>\n",
       "      <td>TV-14</td>\n",
       "      <td>158 min</td>\n",
       "      <td>Dramas, International Movies, Music &amp; Musicals</td>\n",
       "      <td>[Dramas,  International Movies,  Music &amp; Music...</td>\n",
       "      <td>2018</td>\n",
       "      <td>3</td>\n",
       "    </tr>\n",
       "    <tr>\n",
       "      <th>5097</th>\n",
       "      <td>s7014</td>\n",
       "      <td>Movie</td>\n",
       "      <td>How the Grinch Stole Christmas</td>\n",
       "      <td>Ron Howard</td>\n",
       "      <td>United States</td>\n",
       "      <td>2017-06-01</td>\n",
       "      <td>2000</td>\n",
       "      <td>PG</td>\n",
       "      <td>105 min</td>\n",
       "      <td>Children &amp; Family Movies, Comedies</td>\n",
       "      <td>[Children &amp; Family Movies,  Comedies]</td>\n",
       "      <td>2017</td>\n",
       "      <td>6</td>\n",
       "    </tr>\n",
       "    <tr>\n",
       "      <th>5283</th>\n",
       "      <td>s7248</td>\n",
       "      <td>Movie</td>\n",
       "      <td>Kya Kehna</td>\n",
       "      <td>Kundan Shah</td>\n",
       "      <td>India</td>\n",
       "      <td>2018-04-01</td>\n",
       "      <td>2000</td>\n",
       "      <td>TV-PG</td>\n",
       "      <td>149 min</td>\n",
       "      <td>Dramas, International Movies, Romantic Movies</td>\n",
       "      <td>[Dramas,  International Movies,  Romantic Movies]</td>\n",
       "      <td>2018</td>\n",
       "      <td>4</td>\n",
       "    </tr>\n",
       "    <tr>\n",
       "      <th>5339</th>\n",
       "      <td>s7317</td>\n",
       "      <td>Movie</td>\n",
       "      <td>Little Nicky</td>\n",
       "      <td>Steve Brill</td>\n",
       "      <td>United States</td>\n",
       "      <td>2020-12-01</td>\n",
       "      <td>2000</td>\n",
       "      <td>PG-13</td>\n",
       "      <td>90 min</td>\n",
       "      <td>Comedies</td>\n",
       "      <td>[Comedies]</td>\n",
       "      <td>2020</td>\n",
       "      <td>12</td>\n",
       "    </tr>\n",
       "    <tr>\n",
       "      <th>5645</th>\n",
       "      <td>s7703</td>\n",
       "      <td>Movie</td>\n",
       "      <td>Papa the Great</td>\n",
       "      <td>Bhagyaraj</td>\n",
       "      <td>India</td>\n",
       "      <td>2017-12-08</td>\n",
       "      <td>2000</td>\n",
       "      <td>TV-PG</td>\n",
       "      <td>137 min</td>\n",
       "      <td>Comedies, Dramas, International Movies</td>\n",
       "      <td>[Comedies,  Dramas,  International Movies]</td>\n",
       "      <td>2017</td>\n",
       "      <td>12</td>\n",
       "    </tr>\n",
       "    <tr>\n",
       "      <th>5706</th>\n",
       "      <td>s7802</td>\n",
       "      <td>Movie</td>\n",
       "      <td>Pukar</td>\n",
       "      <td>Rajkumar Santoshi</td>\n",
       "      <td>India</td>\n",
       "      <td>2018-03-01</td>\n",
       "      <td>2000</td>\n",
       "      <td>TV-14</td>\n",
       "      <td>165 min</td>\n",
       "      <td>Action &amp; Adventure, Dramas, International Movies</td>\n",
       "      <td>[Action &amp; Adventure,  Dramas,  International M...</td>\n",
       "      <td>2018</td>\n",
       "      <td>3</td>\n",
       "    </tr>\n",
       "    <tr>\n",
       "      <th>5836</th>\n",
       "      <td>s7956</td>\n",
       "      <td>Movie</td>\n",
       "      <td>Scary Movie</td>\n",
       "      <td>Keenen Ivory Wayans</td>\n",
       "      <td>United States</td>\n",
       "      <td>2020-01-01</td>\n",
       "      <td>2000</td>\n",
       "      <td>R</td>\n",
       "      <td>88 min</td>\n",
       "      <td>Comedies, Horror Movies</td>\n",
       "      <td>[Comedies,  Horror Movies]</td>\n",
       "      <td>2020</td>\n",
       "      <td>1</td>\n",
       "    </tr>\n",
       "    <tr>\n",
       "      <th>5843</th>\n",
       "      <td>s7963</td>\n",
       "      <td>Movie</td>\n",
       "      <td>Scream 3</td>\n",
       "      <td>Wes Craven</td>\n",
       "      <td>United States</td>\n",
       "      <td>2019-07-01</td>\n",
       "      <td>2000</td>\n",
       "      <td>R</td>\n",
       "      <td>117 min</td>\n",
       "      <td>Horror Movies</td>\n",
       "      <td>[Horror Movies]</td>\n",
       "      <td>2019</td>\n",
       "      <td>7</td>\n",
       "    </tr>\n",
       "    <tr>\n",
       "      <th>6029</th>\n",
       "      <td>s8197</td>\n",
       "      <td>Movie</td>\n",
       "      <td>The Art of War</td>\n",
       "      <td>Christian Duguay</td>\n",
       "      <td>United States</td>\n",
       "      <td>2020-07-01</td>\n",
       "      <td>2000</td>\n",
       "      <td>R</td>\n",
       "      <td>117 min</td>\n",
       "      <td>Action &amp; Adventure</td>\n",
       "      <td>[Action &amp; Adventure]</td>\n",
       "      <td>2020</td>\n",
       "      <td>7</td>\n",
       "    </tr>\n",
       "    <tr>\n",
       "      <th>6124</th>\n",
       "      <td>s8306</td>\n",
       "      <td>Movie</td>\n",
       "      <td>The Flintstones in Viva Rock Vegas</td>\n",
       "      <td>Brian Levant</td>\n",
       "      <td>United States</td>\n",
       "      <td>2019-10-01</td>\n",
       "      <td>2000</td>\n",
       "      <td>PG</td>\n",
       "      <td>91 min</td>\n",
       "      <td>Children &amp; Family Movies, Comedies, Romantic M...</td>\n",
       "      <td>[Children &amp; Family Movies,  Comedies,  Romanti...</td>\n",
       "      <td>2019</td>\n",
       "      <td>10</td>\n",
       "    </tr>\n",
       "    <tr>\n",
       "      <th>6475</th>\n",
       "      <td>s8723</td>\n",
       "      <td>Movie</td>\n",
       "      <td>What Lies Beneath</td>\n",
       "      <td>Robert Zemeckis</td>\n",
       "      <td>United States</td>\n",
       "      <td>2020-01-01</td>\n",
       "      <td>2000</td>\n",
       "      <td>PG-13</td>\n",
       "      <td>130 min</td>\n",
       "      <td>Horror Movies, Thrillers</td>\n",
       "      <td>[Horror Movies,  Thrillers]</td>\n",
       "      <td>2020</td>\n",
       "      <td>1</td>\n",
       "    </tr>\n",
       "    <tr>\n",
       "      <th>6482</th>\n",
       "      <td>s8730</td>\n",
       "      <td>Movie</td>\n",
       "      <td>Where the Money Is</td>\n",
       "      <td>Marek Kanievska</td>\n",
       "      <td>Germany</td>\n",
       "      <td>2020-01-15</td>\n",
       "      <td>2000</td>\n",
       "      <td>PG-13</td>\n",
       "      <td>89 min</td>\n",
       "      <td>Action &amp; Adventure, Comedies, Dramas</td>\n",
       "      <td>[Action &amp; Adventure,  Comedies,  Dramas]</td>\n",
       "      <td>2020</td>\n",
       "      <td>1</td>\n",
       "    </tr>\n",
       "  </tbody>\n",
       "</table>\n",
       "</div>"
      ],
      "text/plain": [
       "     show_id   type                                              title  \\\n",
       "252     s181  Movie                 The Nutty Professor II: The Klumps   \n",
       "494     s351  Movie                                      Space Cowboys   \n",
       "503     s360  Movie                       The Original Kings of Comedy   \n",
       "717     s567  Movie                                   Charlie's Angels   \n",
       "741     s594  Movie                                           Snow Day   \n",
       "859     s780  Movie                                  Battlefield Earth   \n",
       "983     s953  Movie                               The Whole Nine Yards   \n",
       "2644   s3473  Movie                        Rugrats in Paris: The Movie   \n",
       "3299   s4546  Movie             Monty Python: Before the Flying Circus   \n",
       "3420   s4724  Movie                                               Fiza   \n",
       "3585   s4957  Movie                        Phir Bhi Dil Hai Hindustani   \n",
       "4249   s5954  Movie                             Joseph: King of Dreams   \n",
       "4292   s6007  Movie                                            28 Days   \n",
       "4417   s6148  Movie                                    American Psycho   \n",
       "4424   s6155  Movie  An American Tail: The Treasures of Manhattan I...   \n",
       "4551   s6312  Movie                                       Billy Elliot   \n",
       "4650   s6438  Movie                                       Center Stage   \n",
       "4653   s6441  Movie                                     Chal Mere Bhai   \n",
       "4729   s6544  Movie                     Crouching Tiger, Hidden Dragon   \n",
       "4814   s6644  Movie                       Dragonheart: A New Beginning   \n",
       "4893   s6754  Movie                                  Final Destination   \n",
       "5018   s6913  Movie                          Hamara Dil Aapke Paas Hai   \n",
       "5097   s7014  Movie                     How the Grinch Stole Christmas   \n",
       "5283   s7248  Movie                                          Kya Kehna   \n",
       "5339   s7317  Movie                                       Little Nicky   \n",
       "5645   s7703  Movie                                     Papa the Great   \n",
       "5706   s7802  Movie                                              Pukar   \n",
       "5836   s7956  Movie                                        Scary Movie   \n",
       "5843   s7963  Movie                                           Scream 3   \n",
       "6029   s8197  Movie                                     The Art of War   \n",
       "6124   s8306  Movie                 The Flintstones in Viva Rock Vegas   \n",
       "6475   s8723  Movie                                  What Lies Beneath   \n",
       "6482   s8730  Movie                                 Where the Money Is   \n",
       "\n",
       "                           director         country date_added  release_year  \\\n",
       "252                     Peter Segal   United States 2021-09-01          2000   \n",
       "494                  Clint Eastwood   United States 2021-08-01          2000   \n",
       "503                       Spike Lee   United States 2021-08-01          2000   \n",
       "717                             McG   United States 2021-07-01          2000   \n",
       "741                      Chris Koch   United States 2021-07-01          2000   \n",
       "859                 Roger Christian   United States 2021-06-02          2000   \n",
       "983                   Jonathan Lynn   United States 2021-05-01          2000   \n",
       "2644   Stig Bergqvist, Paul Demeyer         Germany 2019-10-01          2000   \n",
       "3299                      Will Yapp  United Kingdom 2018-10-02          2000   \n",
       "3420                 Khalid Mohamed           India 2018-08-02          2000   \n",
       "3585                     Aziz Mirza           India 2018-04-01          2000   \n",
       "4249  Rob LaDuca, Robert C. Ramirez   United States 2011-09-27          2000   \n",
       "4292                   Betty Thomas   United States 2020-09-30          2000   \n",
       "4417                    Mary Harron   United States 2019-09-01          2000   \n",
       "4424                   Larry Latham   United States 2018-04-01          2000   \n",
       "4551                 Stephen Daldry  United Kingdom 2019-02-01          2000   \n",
       "4650                Nicholas Hytner   United States 2020-01-01          2000   \n",
       "4653                   David Dhawan           India 2019-12-31          2000   \n",
       "4729                        Ang Lee          Taiwan 2019-03-01          2000   \n",
       "4814                    Doug Lefler   United States 2020-01-01          2000   \n",
       "4893                     James Wong   United States 2020-01-01          2000   \n",
       "5018                 Satish Kaushik           India 2018-03-01          2000   \n",
       "5097                     Ron Howard   United States 2017-06-01          2000   \n",
       "5283                    Kundan Shah           India 2018-04-01          2000   \n",
       "5339                    Steve Brill   United States 2020-12-01          2000   \n",
       "5645                      Bhagyaraj           India 2017-12-08          2000   \n",
       "5706              Rajkumar Santoshi           India 2018-03-01          2000   \n",
       "5836            Keenen Ivory Wayans   United States 2020-01-01          2000   \n",
       "5843                     Wes Craven   United States 2019-07-01          2000   \n",
       "6029               Christian Duguay   United States 2020-07-01          2000   \n",
       "6124                   Brian Levant   United States 2019-10-01          2000   \n",
       "6475                Robert Zemeckis   United States 2020-01-01          2000   \n",
       "6482                Marek Kanievska         Germany 2020-01-15          2000   \n",
       "\n",
       "     rating duration                                          listed_in  \\\n",
       "252   PG-13  107 min                          Comedies, Romantic Movies   \n",
       "494   PG-13  130 min       Action & Adventure, Dramas, Sci-Fi & Fantasy   \n",
       "503       R  111 min                                    Stand-Up Comedy   \n",
       "717   PG-13   98 min                       Action & Adventure, Comedies   \n",
       "741      PG   89 min                 Children & Family Movies, Comedies   \n",
       "859   PG-13  118 min  Action & Adventure, Cult Movies, Sci-Fi & Fantasy   \n",
       "983       R   99 min                       Action & Adventure, Comedies   \n",
       "2644      G   79 min                 Children & Family Movies, Comedies   \n",
       "3299  TV-MA   56 min                            Comedies, Documentaries   \n",
       "3420  TV-14  163 min     Dramas, International Movies, Music & Musicals   \n",
       "3585  TV-14  159 min             Comedies, Dramas, International Movies   \n",
       "4249  TV-PG   75 min  Children & Family Movies, Dramas, Faith & Spir...   \n",
       "4292  PG-13  104 min                                   Comedies, Dramas   \n",
       "4417      R  102 min                      Comedies, Cult Movies, Dramas   \n",
       "4424      G   79 min                           Children & Family Movies   \n",
       "4551      R  110 min   Dramas, Independent Movies, International Movies   \n",
       "4650  PG-13  116 min                                             Dramas   \n",
       "4653  TV-14  132 min    Comedies, International Movies, Romantic Movies   \n",
       "4729  PG-13  120 min  Action & Adventure, International Movies, Roma...   \n",
       "4814     PG   84 min               Action & Adventure, Sci-Fi & Fantasy   \n",
       "4893      R   98 min              Cult Movies, Horror Movies, Thrillers   \n",
       "5018  TV-14  158 min     Dramas, International Movies, Music & Musicals   \n",
       "5097     PG  105 min                 Children & Family Movies, Comedies   \n",
       "5283  TV-PG  149 min      Dramas, International Movies, Romantic Movies   \n",
       "5339  PG-13   90 min                                           Comedies   \n",
       "5645  TV-PG  137 min             Comedies, Dramas, International Movies   \n",
       "5706  TV-14  165 min   Action & Adventure, Dramas, International Movies   \n",
       "5836      R   88 min                            Comedies, Horror Movies   \n",
       "5843      R  117 min                                      Horror Movies   \n",
       "6029      R  117 min                                 Action & Adventure   \n",
       "6124     PG   91 min  Children & Family Movies, Comedies, Romantic M...   \n",
       "6475  PG-13  130 min                           Horror Movies, Thrillers   \n",
       "6482  PG-13   89 min               Action & Adventure, Comedies, Dramas   \n",
       "\n",
       "                                                 genres  year_added  \\\n",
       "252                        [Comedies,  Romantic Movies]        2021   \n",
       "494    [Action & Adventure,  Dramas,  Sci-Fi & Fantasy]        2021   \n",
       "503                                   [Stand-Up Comedy]        2021   \n",
       "717                     [Action & Adventure,  Comedies]        2021   \n",
       "741               [Children & Family Movies,  Comedies]        2021   \n",
       "859   [Action & Adventure,  Cult Movies,  Sci-Fi & F...        2021   \n",
       "983                     [Action & Adventure,  Comedies]        2021   \n",
       "2644              [Children & Family Movies,  Comedies]        2019   \n",
       "3299                         [Comedies,  Documentaries]        2018   \n",
       "3420  [Dramas,  International Movies,  Music & Music...        2018   \n",
       "3585         [Comedies,  Dramas,  International Movies]        2018   \n",
       "4249  [Children & Family Movies,  Dramas,  Faith & S...        2011   \n",
       "4292                                [Comedies,  Dramas]        2020   \n",
       "4417                  [Comedies,  Cult Movies,  Dramas]        2019   \n",
       "4424                         [Children & Family Movies]        2018   \n",
       "4551  [Dramas,  Independent Movies,  International M...        2019   \n",
       "4650                                           [Dramas]        2020   \n",
       "4653  [Comedies,  International Movies,  Romantic Mo...        2019   \n",
       "4729  [Action & Adventure,  International Movies,  R...        2019   \n",
       "4814            [Action & Adventure,  Sci-Fi & Fantasy]        2020   \n",
       "4893          [Cult Movies,  Horror Movies,  Thrillers]        2020   \n",
       "5018  [Dramas,  International Movies,  Music & Music...        2018   \n",
       "5097              [Children & Family Movies,  Comedies]        2017   \n",
       "5283  [Dramas,  International Movies,  Romantic Movies]        2018   \n",
       "5339                                         [Comedies]        2020   \n",
       "5645         [Comedies,  Dramas,  International Movies]        2017   \n",
       "5706  [Action & Adventure,  Dramas,  International M...        2018   \n",
       "5836                         [Comedies,  Horror Movies]        2020   \n",
       "5843                                    [Horror Movies]        2019   \n",
       "6029                               [Action & Adventure]        2020   \n",
       "6124  [Children & Family Movies,  Comedies,  Romanti...        2019   \n",
       "6475                        [Horror Movies,  Thrillers]        2020   \n",
       "6482           [Action & Adventure,  Comedies,  Dramas]        2020   \n",
       "\n",
       "      month_added  \n",
       "252             9  \n",
       "494             8  \n",
       "503             8  \n",
       "717             7  \n",
       "741             7  \n",
       "859             6  \n",
       "983             5  \n",
       "2644           10  \n",
       "3299           10  \n",
       "3420            8  \n",
       "3585            4  \n",
       "4249            9  \n",
       "4292            9  \n",
       "4417            9  \n",
       "4424            4  \n",
       "4551            2  \n",
       "4650            1  \n",
       "4653           12  \n",
       "4729            3  \n",
       "4814            1  \n",
       "4893            1  \n",
       "5018            3  \n",
       "5097            6  \n",
       "5283            4  \n",
       "5339           12  \n",
       "5645           12  \n",
       "5706            3  \n",
       "5836            1  \n",
       "5843            7  \n",
       "6029            7  \n",
       "6124           10  \n",
       "6475            1  \n",
       "6482            1  "
      ]
     },
     "execution_count": 112,
     "metadata": {},
     "output_type": "execute_result"
    }
   ],
   "source": [
    "data[(data['type'] == 'Movie' ) & (data['release_year'] == 2000)]  #To check"
   ]
  },
  {
   "cell_type": "code",
   "execution_count": 113,
   "id": "b7ab1351",
   "metadata": {},
   "outputs": [
    {
     "data": {
      "text/plain": [
       "(33, 13)"
      ]
     },
     "execution_count": 113,
     "metadata": {},
     "output_type": "execute_result"
    }
   ],
   "source": [
    "data[(data['type'] == 'Movie' ) & (data['release_year'] == 2000)].shape #Hence we can se that there are 33 Movies were Released \n",
    "                                                                         #in the Year 2000"
   ]
  },
  {
   "cell_type": "code",
   "execution_count": null,
   "id": "0be2dd04",
   "metadata": {},
   "outputs": [],
   "source": []
  },
  {
   "cell_type": "code",
   "execution_count": 114,
   "id": "b9471b4f",
   "metadata": {},
   "outputs": [],
   "source": [
    "# Q9 Show top 10 director, who gave the highest number of TV shows & Movies to Netflix?"
   ]
  },
  {
   "cell_type": "code",
   "execution_count": 117,
   "id": "76b7236e",
   "metadata": {},
   "outputs": [
    {
     "data": {
      "text/plain": [
       "Index(['show_id', 'type', 'title', 'director', 'country', 'date_added',\n",
       "       'release_year', 'rating', 'duration', 'listed_in', 'genres',\n",
       "       'year_added', 'month_added'],\n",
       "      dtype='object')"
      ]
     },
     "execution_count": 117,
     "metadata": {},
     "output_type": "execute_result"
    }
   ],
   "source": [
    "data.columns"
   ]
  },
  {
   "cell_type": "code",
   "execution_count": 121,
   "id": "d5bcb0fc",
   "metadata": {},
   "outputs": [
    {
     "data": {
      "text/plain": [
       "Not Given                 2588\n",
       "Rajiv Chilaka               20\n",
       "Alastair Fothergill         18\n",
       "Raúl Campos, Jan Suter      18\n",
       "Suhas Kadav                 16\n",
       "Marcus Raboy                16\n",
       "Jay Karas                   14\n",
       "Cathy Garcia-Molina         13\n",
       "Martin Scorsese             12\n",
       "Youssef Chahine             12\n",
       "Name: director, dtype: int64"
      ]
     },
     "execution_count": 121,
     "metadata": {},
     "output_type": "execute_result"
    }
   ],
   "source": [
    "data[\"director\"].value_counts().head(10) #First Lets Check the Top 10 Directors Name\n",
    " # Here We can se that Director Rajiv Chilaka has Given the highest number of Movies & Tv Shows "
   ]
  },
  {
   "cell_type": "code",
   "execution_count": null,
   "id": "68d3d8a4",
   "metadata": {},
   "outputs": [],
   "source": []
  },
  {
   "cell_type": "code",
   "execution_count": 128,
   "id": "3dd337f2",
   "metadata": {},
   "outputs": [],
   "source": []
  },
  {
   "cell_type": "code",
   "execution_count": null,
   "id": "2a4dcea4",
   "metadata": {},
   "outputs": [],
   "source": []
  },
  {
   "cell_type": "code",
   "execution_count": null,
   "id": "adbbeadd",
   "metadata": {},
   "outputs": [],
   "source": []
  },
  {
   "cell_type": "code",
   "execution_count": null,
   "id": "2b697722",
   "metadata": {},
   "outputs": [],
   "source": []
  }
 ],
 "metadata": {
  "kernelspec": {
   "display_name": "Python 3 (ipykernel)",
   "language": "python",
   "name": "python3"
  },
  "language_info": {
   "codemirror_mode": {
    "name": "ipython",
    "version": 3
   },
   "file_extension": ".py",
   "mimetype": "text/x-python",
   "name": "python",
   "nbconvert_exporter": "python",
   "pygments_lexer": "ipython3",
   "version": "3.11.4"
  }
 },
 "nbformat": 4,
 "nbformat_minor": 5
}
